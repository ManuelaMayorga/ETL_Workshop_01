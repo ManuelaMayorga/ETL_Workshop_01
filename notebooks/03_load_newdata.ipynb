{
 "cells": [
  {
   "cell_type": "markdown",
   "metadata": {},
   "source": [
    "The environment variables are loaded from a `.env` Processor. The main goal is to manage the configuration, and the `WORK_PATH` environment variable is used to define a working directory."
   ]
  },
  {
   "cell_type": "code",
   "execution_count": 1,
   "metadata": {},
   "outputs": [],
   "source": [
    "import sys\n",
    "import os\n",
    "from dotenv import load_dotenv\n",
    "\n",
    "load_dotenv()\n",
    "work_path = os.getenv('WORK_PATH')\n",
    "\n",
    "sys.path.append(work_path)"
   ]
  },
  {
   "cell_type": "markdown",
   "metadata": {},
   "source": [
    "The necessary libraries are imported for use"
   ]
  },
  {
   "cell_type": "code",
   "execution_count": 2,
   "metadata": {},
   "outputs": [],
   "source": [
    "from sqlalchemy.orm import sessionmaker\n",
    "from src.database.connection import config_loader\n",
    "from src.data_process.class_processor import Processor\n",
    "from src.models.models import HiredCandidate"
   ]
  },
  {
   "cell_type": "markdown",
   "metadata": {},
   "source": [
    "A connection to a database is established using `connection` and a SQLAlchemy session is created using `sessionmaker` linked to that connection. This streamlines database operations in the program."
   ]
  },
  {
   "cell_type": "code",
   "execution_count": 3,
   "metadata": {},
   "outputs": [
    {
     "name": "stdout",
     "output_type": "stream",
     "text": [
      "Connected successfully to Workshop-1 database\n"
     ]
    }
   ],
   "source": [
    "connection = config_loader()\n",
    "\n",
    "Session = sessionmaker(bind=config_loader)\n",
    "session = Session()"
   ]
  },
  {
   "cell_type": "markdown",
   "metadata": {},
   "source": [
    "#### Create new table with hired and category of technology\n",
    "\n",
    "Here a new table is created with the column of hired and category of technology, with the same logic of the previous table. "
   ]
  },
  {
   "cell_type": "code",
   "execution_count": 4,
   "metadata": {},
   "outputs": [
    {
     "name": "stdout",
     "output_type": "stream",
     "text": [
      "Table created successfully.\n"
     ]
    }
   ],
   "source": [
    "try:\n",
    "    HiredCandidate.__table__.create(connection)\n",
    "    print(\"Table created successfully.\")\n",
    "except Exception as e:\n",
    "    print(f\"Error creating table: {e}\")"
   ]
  },
  {
   "cell_type": "markdown",
   "metadata": {},
   "source": [
    "It loads from a path and performs a previous manipulation of the data, such as renaming columns, inserting a unique identifier, adding the new technology category column and the hired column. Finally, the SQLAlchemy session is closed at the `finally` clause, ensuring proper resource management.\n"
   ]
  },
  {
   "cell_type": "code",
   "execution_count": 5,
   "metadata": {},
   "outputs": [
    {
     "name": "stdout",
     "output_type": "stream",
     "text": [
      "Data uploaded\n"
     ]
    }
   ],
   "source": [
    "try:\n",
    "    data = Processor('../data/candidates.csv')\n",
    "    data.rename_columns()\n",
    "    data.insert_id()\n",
    "    data.update_hired_column()\n",
    "    data.technology_category()\n",
    "\n",
    "    data.df.to_sql('hired_candidates', connection, if_exists='replace', index=False)\n",
    "    print(\"Data uploaded\")\n",
    "\n",
    "except Exception as e:\n",
    "    print(f\"Error uploading data: {e}\")\n",
    "\n",
    "finally:\n",
    "    session.close()\n"
   ]
  }
 ],
 "metadata": {
  "kernelspec": {
   "display_name": "venv",
   "language": "python",
   "name": "python3"
  },
  "language_info": {
   "codemirror_mode": {
    "name": "ipython",
    "version": 3
   },
   "file_extension": ".py",
   "mimetype": "text/x-python",
   "name": "python",
   "nbconvert_exporter": "python",
   "pygments_lexer": "ipython3",
   "version": "3.11.8"
  }
 },
 "nbformat": 4,
 "nbformat_minor": 2
}
