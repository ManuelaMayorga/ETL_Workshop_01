{
 "cells": [
  {
   "cell_type": "markdown",
   "metadata": {},
   "source": [
    "# Workshop 1 - Manuela Mayorga Rojas\n",
    "\n",
    "##### This project deals with the management and visualization of a dataset. The code covers all phases of data analysis, manipulation and migration in a relational database using the Python programming language. This data will then be visually represented in a Power BI dashboard, including relevant metrics."
   ]
  },
  {
   "cell_type": "markdown",
   "metadata": {},
   "source": [
    "### Data processing\n",
    "\n",
    "This part covers operations related to data management, creation and configuration of tables in the database. From database connection and data manipulation to table creation and data loading."
   ]
  },
  {
   "cell_type": "markdown",
   "metadata": {},
   "source": [
    "The environment variables are loaded from a `.env` Processor. The main goal is to manage the configuration, and the `WORK_PATH` environment variable is used to define a working directory."
   ]
  },
  {
   "cell_type": "code",
   "execution_count": 1,
   "metadata": {},
   "outputs": [],
   "source": [
    "import sys\n",
    "import os\n",
    "from dotenv import load_dotenv\n",
    "\n",
    "load_dotenv()\n",
    "work_path = os.getenv('WORK_PATH')\n",
    "\n",
    "sys.path.append(work_path)\n"
   ]
  },
  {
   "cell_type": "markdown",
   "metadata": {},
   "source": [
    "The necessary libraries are imported for use"
   ]
  },
  {
   "cell_type": "code",
   "execution_count": 2,
   "metadata": {},
   "outputs": [],
   "source": [
    "from sqlalchemy.orm import sessionmaker\n",
    "from src.database.connection import config_loader\n",
    "from src.data_process.class_processor import Processor\n",
    "from src.models.models import Candidates\n"
   ]
  },
  {
   "cell_type": "markdown",
   "metadata": {},
   "source": [
    "A connection to a database is established using `connection` nd a SQLAlchemy session is created using `sessionmaker` linked to that connection. This streamlines database operations in the program."
   ]
  },
  {
   "cell_type": "code",
   "execution_count": 3,
   "metadata": {},
   "outputs": [
    {
     "name": "stdout",
     "output_type": "stream",
     "text": [
      "Connected successfully to Workshop-1 database\n"
     ]
    }
   ],
   "source": [
    "connection = config_loader()\n",
    "\n",
    "Session = sessionmaker(bind=config_loader)\n",
    "session = Session()"
   ]
  },
  {
   "cell_type": "markdown",
   "metadata": {},
   "source": [
    "#### Create table\n",
    "\n",
    "Here it verifies the existence of the 'candidates' table in the database using SQLAlchemy. If the table is already present, it is deleted and recreated to ensure consistency and structure. In case the table does not exist, it is created directly. "
   ]
  },
  {
   "cell_type": "code",
   "execution_count": 5,
   "metadata": {},
   "outputs": [
    {
     "name": "stdout",
     "output_type": "stream",
     "text": [
      "Table created successfully.\n"
     ]
    }
   ],
   "source": [
    "try:\n",
    "    Candidates.__table__.create(connection)\n",
    "    print(\"Table created successfully.\")\n",
    "except Exception as e:\n",
    "    print(f\"Error creating table: {e}\")\n"
   ]
  },
  {
   "cell_type": "markdown",
   "metadata": {},
   "source": [
    "It loads from a path and performs pre-manipulation of the data, such as renaming columns and inserting a unique identifier. Finally, the SQLAlchemy session is closed in the `finally` clause, ensuring proper resource management."
   ]
  },
  {
   "cell_type": "code",
   "execution_count": 6,
   "metadata": {},
   "outputs": [
    {
     "name": "stdout",
     "output_type": "stream",
     "text": [
      "Data uploaded\n"
     ]
    }
   ],
   "source": [
    "try:\n",
    "    data = Processor('../data/candidates.csv')\n",
    "    data.rename_columns()\n",
    "    data.insert_id()\n",
    "\n",
    "    data.df.to_sql('candidates', connection, if_exists='replace', index=False)\n",
    "    print(\"Data uploaded\")\n",
    "\n",
    "except Exception as e:\n",
    "    print(f\"Error uploading data: {e}\")\n",
    "\n",
    "finally:\n",
    "    session.close()\n",
    "\n"
   ]
  }
 ],
 "metadata": {
  "kernelspec": {
   "display_name": "venv",
   "language": "python",
   "name": "python3"
  },
  "language_info": {
   "codemirror_mode": {
    "name": "ipython",
    "version": 3
   },
   "file_extension": ".py",
   "mimetype": "text/x-python",
   "name": "python",
   "nbconvert_exporter": "python",
   "pygments_lexer": "ipython3",
   "version": "3.11.8"
  }
 },
 "nbformat": 4,
 "nbformat_minor": 2
}
