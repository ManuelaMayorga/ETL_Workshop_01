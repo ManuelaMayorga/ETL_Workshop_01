{
 "cells": [
  {
   "cell_type": "markdown",
   "metadata": {},
   "source": [
    "### Second exploratory data analysis (EDA)\n",
    "\n",
    "In this case, a second EDA was performed since new columns were added to the dataset."
   ]
  },
  {
   "cell_type": "markdown",
   "metadata": {},
   "source": [
    "The environment variables are loaded from a `.env` file. The main goal is to manage the configuration, and the `WORK_PATH` environment variable is used to define a working directory."
   ]
  },
  {
   "cell_type": "code",
   "execution_count": 1,
   "metadata": {},
   "outputs": [],
   "source": [
    "import sys\n",
    "import os\n",
    "from dotenv import load_dotenv\n",
    "\n",
    "load_dotenv()\n",
    "work_path = os.getenv('WORK_PATH')\n",
    "\n",
    "sys.path.append(work_path)"
   ]
  },
  {
   "cell_type": "markdown",
   "metadata": {},
   "source": [
    "The necessary libraries are imported for use"
   ]
  },
  {
   "cell_type": "code",
   "execution_count": 2,
   "metadata": {},
   "outputs": [],
   "source": [
    "import matplotlib.pyplot as plt\n",
    "import pandas as pd\n",
    "import seaborn as sns\n",
    "from sqlalchemy.orm import aliased, sessionmaker\n",
    "from src.database.connection import config_loader\n",
    "from src.data_process.class_processor import Processor\n",
    "from src.models.models import HiredCandidate"
   ]
  },
  {
   "cell_type": "markdown",
   "metadata": {},
   "source": [
    "A connection to a database is established using `connection` nd a SQLAlchemy session is created using `sessionmaker` linked to that connection. This streamlines database operations in the program."
   ]
  },
  {
   "cell_type": "code",
   "execution_count": 3,
   "metadata": {},
   "outputs": [
    {
     "name": "stdout",
     "output_type": "stream",
     "text": [
      "Connected successfully to Workshop-1 database\n"
     ]
    }
   ],
   "source": [
    "connection = config_loader()\n",
    "\n",
    "Session = sessionmaker(bind=config_loader)\n",
    "session = Session()\n"
   ]
  },
  {
   "cell_type": "markdown",
   "metadata": {},
   "source": [
    "Using SQLAlchemy, a query is made to the `(HiredCandidates)` table, along with an alias `table`, to read and load the data into a DataFrame to display the newly added columns."
   ]
  },
  {
   "cell_type": "code",
   "execution_count": 4,
   "metadata": {},
   "outputs": [
    {
     "data": {
      "text/html": [
       "<div>\n",
       "<style scoped>\n",
       "    .dataframe tbody tr th:only-of-type {\n",
       "        vertical-align: middle;\n",
       "    }\n",
       "\n",
       "    .dataframe tbody tr th {\n",
       "        vertical-align: top;\n",
       "    }\n",
       "\n",
       "    .dataframe thead th {\n",
       "        text-align: right;\n",
       "    }\n",
       "</style>\n",
       "<table border=\"1\" class=\"dataframe\">\n",
       "  <thead>\n",
       "    <tr style=\"text-align: right;\">\n",
       "      <th></th>\n",
       "      <th>id</th>\n",
       "      <th>first_name</th>\n",
       "      <th>last_name</th>\n",
       "      <th>email</th>\n",
       "      <th>application_date</th>\n",
       "      <th>country</th>\n",
       "      <th>yoe</th>\n",
       "      <th>seniority</th>\n",
       "      <th>technology</th>\n",
       "      <th>code_challenge_score</th>\n",
       "      <th>technical_interview_score</th>\n",
       "      <th>category_of_technology</th>\n",
       "      <th>hired</th>\n",
       "    </tr>\n",
       "  </thead>\n",
       "  <tbody>\n",
       "    <tr>\n",
       "      <th>0</th>\n",
       "      <td>1</td>\n",
       "      <td>Bernadette</td>\n",
       "      <td>Langworth</td>\n",
       "      <td>leonard91@yahoo.com</td>\n",
       "      <td>2021-02-26</td>\n",
       "      <td>Norway</td>\n",
       "      <td>2</td>\n",
       "      <td>Intern</td>\n",
       "      <td>Data Engineer</td>\n",
       "      <td>3</td>\n",
       "      <td>3</td>\n",
       "      <td>Data and Analytics</td>\n",
       "      <td>0</td>\n",
       "    </tr>\n",
       "    <tr>\n",
       "      <th>1</th>\n",
       "      <td>2</td>\n",
       "      <td>Camryn</td>\n",
       "      <td>Reynolds</td>\n",
       "      <td>zelda56@hotmail.com</td>\n",
       "      <td>2021-09-09</td>\n",
       "      <td>Panama</td>\n",
       "      <td>10</td>\n",
       "      <td>Intern</td>\n",
       "      <td>Data Engineer</td>\n",
       "      <td>2</td>\n",
       "      <td>10</td>\n",
       "      <td>Data and Analytics</td>\n",
       "      <td>0</td>\n",
       "    </tr>\n",
       "    <tr>\n",
       "      <th>2</th>\n",
       "      <td>3</td>\n",
       "      <td>Larue</td>\n",
       "      <td>Spinka</td>\n",
       "      <td>okey_schultz41@gmail.com</td>\n",
       "      <td>2020-04-14</td>\n",
       "      <td>Belarus</td>\n",
       "      <td>4</td>\n",
       "      <td>Mid-Level</td>\n",
       "      <td>Client Success</td>\n",
       "      <td>10</td>\n",
       "      <td>9</td>\n",
       "      <td>Sales and Marketing</td>\n",
       "      <td>1</td>\n",
       "    </tr>\n",
       "    <tr>\n",
       "      <th>3</th>\n",
       "      <td>4</td>\n",
       "      <td>Arch</td>\n",
       "      <td>Spinka</td>\n",
       "      <td>elvera_kulas@yahoo.com</td>\n",
       "      <td>2020-10-01</td>\n",
       "      <td>Eritrea</td>\n",
       "      <td>25</td>\n",
       "      <td>Trainee</td>\n",
       "      <td>QA Manual</td>\n",
       "      <td>7</td>\n",
       "      <td>1</td>\n",
       "      <td>QA and Testing</td>\n",
       "      <td>0</td>\n",
       "    </tr>\n",
       "    <tr>\n",
       "      <th>4</th>\n",
       "      <td>5</td>\n",
       "      <td>Larue</td>\n",
       "      <td>Altenwerth</td>\n",
       "      <td>minnie.gislason@gmail.com</td>\n",
       "      <td>2020-05-20</td>\n",
       "      <td>Myanmar</td>\n",
       "      <td>13</td>\n",
       "      <td>Mid-Level</td>\n",
       "      <td>Social Media Community Management</td>\n",
       "      <td>9</td>\n",
       "      <td>7</td>\n",
       "      <td>Sales and Marketing</td>\n",
       "      <td>1</td>\n",
       "    </tr>\n",
       "  </tbody>\n",
       "</table>\n",
       "</div>"
      ],
      "text/plain": [
       "   id  first_name   last_name                      email application_date  \\\n",
       "0   1  Bernadette   Langworth        leonard91@yahoo.com       2021-02-26   \n",
       "1   2      Camryn    Reynolds        zelda56@hotmail.com       2021-09-09   \n",
       "2   3       Larue      Spinka   okey_schultz41@gmail.com       2020-04-14   \n",
       "3   4        Arch      Spinka     elvera_kulas@yahoo.com       2020-10-01   \n",
       "4   5       Larue  Altenwerth  minnie.gislason@gmail.com       2020-05-20   \n",
       "\n",
       "   country  yoe  seniority                         technology  \\\n",
       "0   Norway    2     Intern                      Data Engineer   \n",
       "1   Panama   10     Intern                      Data Engineer   \n",
       "2  Belarus    4  Mid-Level                     Client Success   \n",
       "3  Eritrea   25    Trainee                          QA Manual   \n",
       "4  Myanmar   13  Mid-Level  Social Media Community Management   \n",
       "\n",
       "   code_challenge_score  technical_interview_score category_of_technology  \\\n",
       "0                     3                          3     Data and Analytics   \n",
       "1                     2                         10     Data and Analytics   \n",
       "2                    10                          9    Sales and Marketing   \n",
       "3                     7                          1         QA and Testing   \n",
       "4                     9                          7    Sales and Marketing   \n",
       "\n",
       "   hired  \n",
       "0      0  \n",
       "1      0  \n",
       "2      1  \n",
       "3      0  \n",
       "4      1  "
      ]
     },
     "execution_count": 4,
     "metadata": {},
     "output_type": "execute_result"
    }
   ],
   "source": [
    "table = aliased(HiredCandidate)\n",
    "query = session.query(table).statement\n",
    "df = pd.read_sql(query, connection)\n",
    "\n",
    "df.head(5)\n"
   ]
  },
  {
   "cell_type": "markdown",
   "metadata": {},
   "source": [
    "Data dictionary to identify the number of null values, data types and unique values with newly added columns"
   ]
  },
  {
   "cell_type": "code",
   "execution_count": 5,
   "metadata": {},
   "outputs": [
    {
     "name": "stdout",
     "output_type": "stream",
     "text": [
      "                  Column Name Data Type  Null Values  Unique Values\n",
      "0                          id     int64            0          50000\n",
      "1                  first_name    object            0           3007\n",
      "2                   last_name    object            0            474\n",
      "3                       email    object            0          49833\n",
      "4            application_date    object            0           1646\n",
      "5                     country    object            0            244\n",
      "6                         yoe     int64            0             31\n",
      "7                   seniority    object            0              7\n",
      "8                  technology    object            0             24\n",
      "9        code_challenge_score     int64            0             11\n",
      "10  technical_interview_score     int64            0             11\n",
      "11     category_of_technology    object            0              6\n",
      "12                      hired     int64            0              2\n"
     ]
    }
   ],
   "source": [
    "data_info = {\n",
    "    'Column Name': list(df.columns),\n",
    "    'Data Type': list(df.dtypes),\n",
    "    'Null Values': list(df.isnull().sum()),\n",
    "    'Unique Values': list(df.nunique())\n",
    "}\n",
    "\n",
    "info_table = pd.DataFrame(data_info)\n",
    "print(info_table)\n"
   ]
  },
  {
   "cell_type": "markdown",
   "metadata": {},
   "source": [
    "Generate descriptive statistics"
   ]
  },
  {
   "cell_type": "code",
   "execution_count": 6,
   "metadata": {},
   "outputs": [
    {
     "data": {
      "text/html": [
       "<div>\n",
       "<style scoped>\n",
       "    .dataframe tbody tr th:only-of-type {\n",
       "        vertical-align: middle;\n",
       "    }\n",
       "\n",
       "    .dataframe tbody tr th {\n",
       "        vertical-align: top;\n",
       "    }\n",
       "\n",
       "    .dataframe thead th {\n",
       "        text-align: right;\n",
       "    }\n",
       "</style>\n",
       "<table border=\"1\" class=\"dataframe\">\n",
       "  <thead>\n",
       "    <tr style=\"text-align: right;\">\n",
       "      <th></th>\n",
       "      <th>count</th>\n",
       "      <th>mean</th>\n",
       "      <th>std</th>\n",
       "      <th>min</th>\n",
       "      <th>25%</th>\n",
       "      <th>50%</th>\n",
       "      <th>75%</th>\n",
       "      <th>max</th>\n",
       "    </tr>\n",
       "  </thead>\n",
       "  <tbody>\n",
       "    <tr>\n",
       "      <th>id</th>\n",
       "      <td>50000.0</td>\n",
       "      <td>25000.50000</td>\n",
       "      <td>14433.901067</td>\n",
       "      <td>1.0</td>\n",
       "      <td>12500.75</td>\n",
       "      <td>25000.5</td>\n",
       "      <td>37500.25</td>\n",
       "      <td>50000.0</td>\n",
       "    </tr>\n",
       "    <tr>\n",
       "      <th>yoe</th>\n",
       "      <td>50000.0</td>\n",
       "      <td>15.28698</td>\n",
       "      <td>8.830652</td>\n",
       "      <td>0.0</td>\n",
       "      <td>8.00</td>\n",
       "      <td>15.0</td>\n",
       "      <td>23.00</td>\n",
       "      <td>30.0</td>\n",
       "    </tr>\n",
       "    <tr>\n",
       "      <th>code_challenge_score</th>\n",
       "      <td>50000.0</td>\n",
       "      <td>4.99640</td>\n",
       "      <td>3.166896</td>\n",
       "      <td>0.0</td>\n",
       "      <td>2.00</td>\n",
       "      <td>5.0</td>\n",
       "      <td>8.00</td>\n",
       "      <td>10.0</td>\n",
       "    </tr>\n",
       "    <tr>\n",
       "      <th>technical_interview_score</th>\n",
       "      <td>50000.0</td>\n",
       "      <td>5.00388</td>\n",
       "      <td>3.165082</td>\n",
       "      <td>0.0</td>\n",
       "      <td>2.00</td>\n",
       "      <td>5.0</td>\n",
       "      <td>8.00</td>\n",
       "      <td>10.0</td>\n",
       "    </tr>\n",
       "    <tr>\n",
       "      <th>hired</th>\n",
       "      <td>50000.0</td>\n",
       "      <td>0.13396</td>\n",
       "      <td>0.340613</td>\n",
       "      <td>0.0</td>\n",
       "      <td>0.00</td>\n",
       "      <td>0.0</td>\n",
       "      <td>0.00</td>\n",
       "      <td>1.0</td>\n",
       "    </tr>\n",
       "  </tbody>\n",
       "</table>\n",
       "</div>"
      ],
      "text/plain": [
       "                             count         mean           std  min       25%  \\\n",
       "id                         50000.0  25000.50000  14433.901067  1.0  12500.75   \n",
       "yoe                        50000.0     15.28698      8.830652  0.0      8.00   \n",
       "code_challenge_score       50000.0      4.99640      3.166896  0.0      2.00   \n",
       "technical_interview_score  50000.0      5.00388      3.165082  0.0      2.00   \n",
       "hired                      50000.0      0.13396      0.340613  0.0      0.00   \n",
       "\n",
       "                               50%       75%      max  \n",
       "id                         25000.5  37500.25  50000.0  \n",
       "yoe                           15.0     23.00     30.0  \n",
       "code_challenge_score           5.0      8.00     10.0  \n",
       "technical_interview_score      5.0      8.00     10.0  \n",
       "hired                          0.0      0.00      1.0  "
      ]
     },
     "execution_count": 6,
     "metadata": {},
     "output_type": "execute_result"
    }
   ],
   "source": [
    "df.describe().T"
   ]
  },
  {
   "cell_type": "markdown",
   "metadata": {},
   "source": [
    "The pie chart shows the distribution of the newly created column \"Category of Technology\"."
   ]
  },
  {
   "cell_type": "code",
   "execution_count": 7,
   "metadata": {},
   "outputs": [
    {
     "data": {
      "image/png": "[encoded data removed]",
      "text/plain": [
       "<Figure size 500x500 with 1 Axes>"
      ]
     },
     "metadata": {},
     "output_type": "display_data"
    }
   ],
   "source": [
    "cat_frequency = df['category_of_technology'].value_counts()\n",
    "plt.figure(figsize=(5, 5))\n",
    "plt.pie(cat_frequency, labels=cat_frequency.index, autopct='%1.1f%%', startangle=140, colors=sns.light_palette('mediumorchid', n_colors=len(cat_frequency)))\n",
    "plt.title('Technology Category')\n",
    "plt.show()"
   ]
  },
  {
   "cell_type": "markdown",
   "metadata": {},
   "source": [
    "Graph showing the number of applications per year "
   ]
  },
  {
   "cell_type": "code",
   "execution_count": 8,
   "metadata": {},
   "outputs": [
    {
     "data": {
      "image/png": "[encoded data removed]",
      "text/plain": [
       "<Figure size 700x500 with 1 Axes>"
      ]
     },
     "metadata": {},
     "output_type": "display_data"
    }
   ],
   "source": [
    "df['application_date'] = pd.to_datetime(df['application_date'])\n",
    "df['year'] = df['application_date'].dt.year\n",
    "requests_per_year = df['year'].value_counts().sort_index()\n",
    "\n",
    "plt.figure(figsize=(7, 5))\n",
    "bars = plt.bar(requests_per_year.index, requests_per_year.values, color='mediumorchid')\n",
    "plt.xlabel('Year')\n",
    "plt.ylabel('Number of Requests')\n",
    "plt.title('Distribution of Requests by Year')\n",
    "\n",
    "for bar in bars:\n",
    "    y_val = bar.get_height()\n",
    "    plt.text(bar.get_x() + bar.get_width()/2, y_val, round(y_val, 2), ha='center', va='bottom')\n",
    "\n",
    "plt.show()"
   ]
  },
  {
   "cell_type": "markdown",
   "metadata": {},
   "source": [
    "Number of months in 2022"
   ]
  },
  {
   "cell_type": "code",
   "execution_count": 9,
   "metadata": {},
   "outputs": [
    {
     "name": "stdout",
     "output_type": "stream",
     "text": [
      "Number of Months in the year 2022: 7\n"
     ]
    }
   ],
   "source": [
    "df_2022 = df[df['application_date'].dt.year == 2022]\n",
    "print(f'Number of Months in the year 2022: {df_2022[\"application_date\"].dt.month.nunique()}')"
   ]
  },
  {
   "cell_type": "markdown",
   "metadata": {},
   "source": [
    "Last date of the year 2022"
   ]
  },
  {
   "cell_type": "code",
   "execution_count": 10,
   "metadata": {},
   "outputs": [
    {
     "name": "stdout",
     "output_type": "stream",
     "text": [
      "Latest date in 2022: 2022-07-04\n"
     ]
    }
   ],
   "source": [
    "latest_date_2022 = df_2022['application_date'].max()\n",
    "print(f'Latest date in 2022: {latest_date_2022.date()}')"
   ]
  }
 ],
 "metadata": {
  "kernelspec": {
   "display_name": "venv",
   "language": "python",
   "name": "python3"
  },
  "language_info": {
   "codemirror_mode": {
    "name": "ipython",
    "version": 3
   },
   "file_extension": ".py",
   "mimetype": "text/x-python",
   "name": "python",
   "nbconvert_exporter": "python",
   "pygments_lexer": "ipython3",
   "version": "3.11.8"
  }
 },
 "nbformat": 4,
 "nbformat_minor": 2
}
